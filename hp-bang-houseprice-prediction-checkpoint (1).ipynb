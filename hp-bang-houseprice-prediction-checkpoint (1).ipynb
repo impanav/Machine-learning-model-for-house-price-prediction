{
 "cells": [
  {
   "cell_type": "code",
   "execution_count": 1,
   "metadata": {
    "colab": {
     "base_uri": "https://localhost:8080/",
     "height": 423
    },
    "executionInfo": {
     "elapsed": 1581,
     "status": "error",
     "timestamp": 1604164308691,
     "user": {
      "displayName": "Hemanth kumar",
      "photoUrl": "https://lh3.googleusercontent.com/a-/AOh14GjkPuIu1A00nC8FCrFCSJmK1K4x-l-UmjHISU2kZQ=s64",
      "userId": "02792351768922846610"
     },
     "user_tz": 420
    },
    "id": "bwmA9bR8pITW",
    "outputId": "3cee6513-0ab8-41c3-889f-f81b569cf582"
   },
   "outputs": [
    {
     "data": {
      "text/html": [
       "<div>\n",
       "<style scoped>\n",
       "    .dataframe tbody tr th:only-of-type {\n",
       "        vertical-align: middle;\n",
       "    }\n",
       "\n",
       "    .dataframe tbody tr th {\n",
       "        vertical-align: top;\n",
       "    }\n",
       "\n",
       "    .dataframe thead th {\n",
       "        text-align: right;\n",
       "    }\n",
       "</style>\n",
       "<table border=\"1\" class=\"dataframe\">\n",
       "  <thead>\n",
       "    <tr style=\"text-align: right;\">\n",
       "      <th></th>\n",
       "      <th>price</th>\n",
       "      <th>place</th>\n",
       "      <th>built</th>\n",
       "      <th>sqft</th>\n",
       "      <th>sale</th>\n",
       "      <th>yearsOld</th>\n",
       "      <th>floor</th>\n",
       "      <th>totalFloor</th>\n",
       "      <th>bhk</th>\n",
       "    </tr>\n",
       "  </thead>\n",
       "  <tbody>\n",
       "    <tr>\n",
       "      <th>0</th>\n",
       "      <td>6300000</td>\n",
       "      <td>BTM Layout</td>\n",
       "      <td>Super built-up  Area</td>\n",
       "      <td>1450</td>\n",
       "      <td>Resale</td>\n",
       "      <td>5</td>\n",
       "      <td>1</td>\n",
       "      <td>4</td>\n",
       "      <td>1</td>\n",
       "    </tr>\n",
       "    <tr>\n",
       "      <th>1</th>\n",
       "      <td>11500000</td>\n",
       "      <td>Yelahanka</td>\n",
       "      <td>Super built-up  Area</td>\n",
       "      <td>2190</td>\n",
       "      <td>Resale</td>\n",
       "      <td>5</td>\n",
       "      <td>3</td>\n",
       "      <td>5</td>\n",
       "      <td>3</td>\n",
       "    </tr>\n",
       "    <tr>\n",
       "      <th>2</th>\n",
       "      <td>3800000</td>\n",
       "      <td>Whitefield</td>\n",
       "      <td>Super built-up  Area</td>\n",
       "      <td>1019</td>\n",
       "      <td>Resale</td>\n",
       "      <td>1</td>\n",
       "      <td>2</td>\n",
       "      <td>5</td>\n",
       "      <td>2</td>\n",
       "    </tr>\n",
       "    <tr>\n",
       "      <th>3</th>\n",
       "      <td>10500000</td>\n",
       "      <td>Ambalipura</td>\n",
       "      <td>Super built-up  Area</td>\n",
       "      <td>1857</td>\n",
       "      <td>Resale</td>\n",
       "      <td>15</td>\n",
       "      <td>4</td>\n",
       "      <td>5</td>\n",
       "      <td>4</td>\n",
       "    </tr>\n",
       "    <tr>\n",
       "      <th>4</th>\n",
       "      <td>11500000</td>\n",
       "      <td>Yelahanka</td>\n",
       "      <td>Super built-up  Area</td>\n",
       "      <td>2190</td>\n",
       "      <td>Resale</td>\n",
       "      <td>5</td>\n",
       "      <td>3</td>\n",
       "      <td>5</td>\n",
       "      <td>3</td>\n",
       "    </tr>\n",
       "  </tbody>\n",
       "</table>\n",
       "</div>"
      ],
      "text/plain": [
       "      price       place                 built  sqft    sale  yearsOld  floor  \\\n",
       "0   6300000  BTM Layout  Super built-up  Area  1450  Resale         5      1   \n",
       "1  11500000   Yelahanka  Super built-up  Area  2190  Resale         5      3   \n",
       "2   3800000  Whitefield  Super built-up  Area  1019  Resale         1      2   \n",
       "3  10500000  Ambalipura  Super built-up  Area  1857  Resale        15      4   \n",
       "4  11500000   Yelahanka  Super built-up  Area  2190  Resale         5      3   \n",
       "\n",
       "   totalFloor  bhk  \n",
       "0           4    1  \n",
       "1           5    3  \n",
       "2           5    2  \n",
       "3           5    4  \n",
       "4           5    3  "
      ]
     },
     "execution_count": 1,
     "metadata": {},
     "output_type": "execute_result"
    }
   ],
   "source": [
    "import pandas as pd\n",
    "data = pd.read_csv('hp_data.csv')\n",
    "data.head()"
   ]
  },
  {
   "cell_type": "code",
   "execution_count": 2,
   "metadata": {
    "colab": {
     "base_uri": "https://localhost:8080/",
     "height": 221
    },
    "executionInfo": {
     "elapsed": 2087,
     "status": "error",
     "timestamp": 1604164309228,
     "user": {
      "displayName": "Hemanth kumar",
      "photoUrl": "https://lh3.googleusercontent.com/a-/AOh14GjkPuIu1A00nC8FCrFCSJmK1K4x-l-UmjHISU2kZQ=s64",
      "userId": "02792351768922846610"
     },
     "user_tz": 420
    },
    "id": "z2XcNzN5pITf",
    "outputId": "f7fc1e90-8f4f-43be-802b-cde78b78c60a"
   },
   "outputs": [
    {
     "data": {
      "text/html": [
       "<div>\n",
       "<style scoped>\n",
       "    .dataframe tbody tr th:only-of-type {\n",
       "        vertical-align: middle;\n",
       "    }\n",
       "\n",
       "    .dataframe tbody tr th {\n",
       "        vertical-align: top;\n",
       "    }\n",
       "\n",
       "    .dataframe thead th {\n",
       "        text-align: right;\n",
       "    }\n",
       "</style>\n",
       "<table border=\"1\" class=\"dataframe\">\n",
       "  <thead>\n",
       "    <tr style=\"text-align: right;\">\n",
       "      <th></th>\n",
       "      <th>price</th>\n",
       "      <th>place</th>\n",
       "      <th>built</th>\n",
       "      <th>sqft</th>\n",
       "      <th>sale</th>\n",
       "      <th>yearsOld</th>\n",
       "      <th>floor</th>\n",
       "      <th>totalFloor</th>\n",
       "      <th>bhk</th>\n",
       "    </tr>\n",
       "  </thead>\n",
       "  <tbody>\n",
       "    <tr>\n",
       "      <th>0</th>\n",
       "      <td>6300000</td>\n",
       "      <td>2</td>\n",
       "      <td>Super built-up  Area</td>\n",
       "      <td>1450</td>\n",
       "      <td>Resale</td>\n",
       "      <td>5</td>\n",
       "      <td>1</td>\n",
       "      <td>4</td>\n",
       "      <td>1</td>\n",
       "    </tr>\n",
       "    <tr>\n",
       "      <th>1</th>\n",
       "      <td>11500000</td>\n",
       "      <td>14</td>\n",
       "      <td>Super built-up  Area</td>\n",
       "      <td>2190</td>\n",
       "      <td>Resale</td>\n",
       "      <td>5</td>\n",
       "      <td>3</td>\n",
       "      <td>5</td>\n",
       "      <td>3</td>\n",
       "    </tr>\n",
       "    <tr>\n",
       "      <th>2</th>\n",
       "      <td>3800000</td>\n",
       "      <td>12</td>\n",
       "      <td>Super built-up  Area</td>\n",
       "      <td>1019</td>\n",
       "      <td>Resale</td>\n",
       "      <td>1</td>\n",
       "      <td>2</td>\n",
       "      <td>5</td>\n",
       "      <td>2</td>\n",
       "    </tr>\n",
       "    <tr>\n",
       "      <th>3</th>\n",
       "      <td>10500000</td>\n",
       "      <td>1</td>\n",
       "      <td>Super built-up  Area</td>\n",
       "      <td>1857</td>\n",
       "      <td>Resale</td>\n",
       "      <td>15</td>\n",
       "      <td>4</td>\n",
       "      <td>5</td>\n",
       "      <td>4</td>\n",
       "    </tr>\n",
       "    <tr>\n",
       "      <th>4</th>\n",
       "      <td>11500000</td>\n",
       "      <td>14</td>\n",
       "      <td>Super built-up  Area</td>\n",
       "      <td>2190</td>\n",
       "      <td>Resale</td>\n",
       "      <td>5</td>\n",
       "      <td>3</td>\n",
       "      <td>5</td>\n",
       "      <td>3</td>\n",
       "    </tr>\n",
       "  </tbody>\n",
       "</table>\n",
       "</div>"
      ],
      "text/plain": [
       "      price  place                 built  sqft    sale  yearsOld  floor  \\\n",
       "0   6300000      2  Super built-up  Area  1450  Resale         5      1   \n",
       "1  11500000     14  Super built-up  Area  2190  Resale         5      3   \n",
       "2   3800000     12  Super built-up  Area  1019  Resale         1      2   \n",
       "3  10500000      1  Super built-up  Area  1857  Resale        15      4   \n",
       "4  11500000     14  Super built-up  Area  2190  Resale         5      3   \n",
       "\n",
       "   totalFloor  bhk  \n",
       "0           4    1  \n",
       "1           5    3  \n",
       "2           5    2  \n",
       "3           5    4  \n",
       "4           5    3  "
      ]
     },
     "execution_count": 2,
     "metadata": {},
     "output_type": "execute_result"
    }
   ],
   "source": [
    "from sklearn.preprocessing import LabelEncoder\n",
    "enc = LabelEncoder()\n",
    "data.place = enc.fit_transform(data.place)\n",
    "data.head()"
   ]
  },
  {
   "cell_type": "code",
   "execution_count": null,
   "metadata": {
    "executionInfo": {
     "elapsed": 2039,
     "status": "aborted",
     "timestamp": 1604164309197,
     "user": {
      "displayName": "Hemanth kumar",
      "photoUrl": "https://lh3.googleusercontent.com/a-/AOh14GjkPuIu1A00nC8FCrFCSJmK1K4x-l-UmjHISU2kZQ=s64",
      "userId": "02792351768922846610"
     },
     "user_tz": 420
    },
    "id": "Z3xc9qg_pITj"
   },
   "outputs": [],
   "source": [
    "pd.DataFrame(enc.classes_)"
   ]
  },
  {
   "cell_type": "code",
   "execution_count": null,
   "metadata": {
    "executionInfo": {
     "elapsed": 2037,
     "status": "aborted",
     "timestamp": 1604164309203,
     "user": {
      "displayName": "Hemanth kumar",
      "photoUrl": "https://lh3.googleusercontent.com/a-/AOh14GjkPuIu1A00nC8FCrFCSJmK1K4x-l-UmjHISU2kZQ=s64",
      "userId": "02792351768922846610"
     },
     "user_tz": 420
    },
    "id": "-uZgGonPpITm"
   },
   "outputs": [],
   "source": [
    "X = data.loc[:,['sqft','place','yearsOld','totalFloor','bhk']]\n",
    "y = data.price"
   ]
  },
  {
   "cell_type": "code",
   "execution_count": null,
   "metadata": {
    "executionInfo": {
     "elapsed": 2029,
     "status": "aborted",
     "timestamp": 1604164309204,
     "user": {
      "displayName": "Hemanth kumar",
      "photoUrl": "https://lh3.googleusercontent.com/a-/AOh14GjkPuIu1A00nC8FCrFCSJmK1K4x-l-UmjHISU2kZQ=s64",
      "userId": "02792351768922846610"
     },
     "user_tz": 420
    },
    "id": "1UiWH4K2pITq"
   },
   "outputs": [],
   "source": [
    "from sklearn.linear_model import LinearRegression\n",
    "model = LinearRegression()"
   ]
  },
  {
   "cell_type": "markdown",
   "metadata": {
    "id": "p6KgTgRrpITt"
   },
   "source": [
    "## Model Evaluation"
   ]
  },
  {
   "cell_type": "code",
   "execution_count": null,
   "metadata": {
    "executionInfo": {
     "elapsed": 2023,
     "status": "aborted",
     "timestamp": 1604164309207,
     "user": {
      "displayName": "Hemanth kumar",
      "photoUrl": "https://lh3.googleusercontent.com/a-/AOh14GjkPuIu1A00nC8FCrFCSJmK1K4x-l-UmjHISU2kZQ=s64",
      "userId": "02792351768922846610"
     },
     "user_tz": 420
    },
    "id": "c0APDkUEpITu"
   },
   "outputs": [],
   "source": [
    "from sklearn.model_selection import train_test_split\n",
    "X_train, X_test, y_train, y_test = train_test_split(X,y,\n",
    "                                    test_size=0.3,random_state=10)"
   ]
  },
  {
   "cell_type": "code",
   "execution_count": null,
   "metadata": {
    "executionInfo": {
     "elapsed": 2010,
     "status": "aborted",
     "timestamp": 1604164309209,
     "user": {
      "displayName": "Hemanth kumar",
      "photoUrl": "https://lh3.googleusercontent.com/a-/AOh14GjkPuIu1A00nC8FCrFCSJmK1K4x-l-UmjHISU2kZQ=s64",
      "userId": "02792351768922846610"
     },
     "user_tz": 420
    },
    "id": "uocXxKgkpITx"
   },
   "outputs": [],
   "source": [
    "from sklearn.linear_model import LinearRegression\n",
    "model = LinearRegression()\n",
    "model.fit(X_train, y_train)"
   ]
  },
  {
   "cell_type": "code",
   "execution_count": null,
   "metadata": {
    "executionInfo": {
     "elapsed": 2006,
     "status": "aborted",
     "timestamp": 1604164309211,
     "user": {
      "displayName": "Hemanth kumar",
      "photoUrl": "https://lh3.googleusercontent.com/a-/AOh14GjkPuIu1A00nC8FCrFCSJmK1K4x-l-UmjHISU2kZQ=s64",
      "userId": "02792351768922846610"
     },
     "user_tz": 420
    },
    "id": "dlk8Zz5EpIT1"
   },
   "outputs": [],
   "source": [
    "y_predict = model.predict(X_test)"
   ]
  },
  {
   "cell_type": "code",
   "execution_count": null,
   "metadata": {
    "executionInfo": {
     "elapsed": 1994,
     "status": "aborted",
     "timestamp": 1604164309213,
     "user": {
      "displayName": "Hemanth kumar",
      "photoUrl": "https://lh3.googleusercontent.com/a-/AOh14GjkPuIu1A00nC8FCrFCSJmK1K4x-l-UmjHISU2kZQ=s64",
      "userId": "02792351768922846610"
     },
     "user_tz": 420
    },
    "id": "cX3eqJQDpIT4"
   },
   "outputs": [],
   "source": [
    "from sklearn.metrics import r2_score\n",
    "r2_score(y_test,y_predict)"
   ]
  },
  {
   "cell_type": "markdown",
   "metadata": {
    "id": "X3hRoR4UpIT7"
   },
   "source": [
    "# Exporting Model"
   ]
  },
  {
   "cell_type": "code",
   "execution_count": null,
   "metadata": {
    "executionInfo": {
     "elapsed": 1984,
     "status": "aborted",
     "timestamp": 1604164309215,
     "user": {
      "displayName": "Hemanth kumar",
      "photoUrl": "https://lh3.googleusercontent.com/a-/AOh14GjkPuIu1A00nC8FCrFCSJmK1K4x-l-UmjHISU2kZQ=s64",
      "userId": "02792351768922846610"
     },
     "user_tz": 420
    },
    "id": "FSYyzsYrpIT8"
   },
   "outputs": [],
   "source": [
    "import joblib\n",
    "joblib.dump(model,'hp_trained_model.pkl') # .pkl pickle"
   ]
  },
  {
   "cell_type": "code",
   "execution_count": null,
   "metadata": {
    "executionInfo": {
     "elapsed": 1982,
     "status": "aborted",
     "timestamp": 1604164309217,
     "user": {
      "displayName": "Hemanth kumar",
      "photoUrl": "https://lh3.googleusercontent.com/a-/AOh14GjkPuIu1A00nC8FCrFCSJmK1K4x-l-UmjHISU2kZQ=s64",
      "userId": "02792351768922846610"
     },
     "user_tz": 420
    },
    "id": "YPcgGpIapIT_"
   },
   "outputs": [],
   "source": []
  },
  {
   "cell_type": "markdown",
   "metadata": {
    "id": "XTR7yFIQpIUC"
   },
   "source": [
    "http://127.0.0.1:5000/predict?sqft=1500&place=2&yo=5&tf=10&bhk=3"
   ]
  },
  {
   "cell_type": "code",
   "execution_count": null,
   "metadata": {
    "executionInfo": {
     "elapsed": 1981,
     "status": "aborted",
     "timestamp": 1604164309220,
     "user": {
      "displayName": "Hemanth kumar",
      "photoUrl": "https://lh3.googleusercontent.com/a-/AOh14GjkPuIu1A00nC8FCrFCSJmK1K4x-l-UmjHISU2kZQ=s64",
      "userId": "02792351768922846610"
     },
     "user_tz": 420
    },
    "id": "StZLVhHBpIUC"
   },
   "outputs": [],
   "source": []
  },
  {
   "cell_type": "code",
   "execution_count": null,
   "metadata": {
    "executionInfo": {
     "elapsed": 1979,
     "status": "aborted",
     "timestamp": 1604164309221,
     "user": {
      "displayName": "Hemanth kumar",
      "photoUrl": "https://lh3.googleusercontent.com/a-/AOh14GjkPuIu1A00nC8FCrFCSJmK1K4x-l-UmjHISU2kZQ=s64",
      "userId": "02792351768922846610"
     },
     "user_tz": 420
    },
    "id": "veEs7jhTpIUF"
   },
   "outputs": [],
   "source": []
  },
  {
   "cell_type": "code",
   "execution_count": null,
   "metadata": {
    "executionInfo": {
     "elapsed": 1980,
     "status": "aborted",
     "timestamp": 1604164309225,
     "user": {
      "displayName": "Hemanth kumar",
      "photoUrl": "https://lh3.googleusercontent.com/a-/AOh14GjkPuIu1A00nC8FCrFCSJmK1K4x-l-UmjHISU2kZQ=s64",
      "userId": "02792351768922846610"
     },
     "user_tz": 420
    },
    "id": "bbHX9_-2pIUJ"
   },
   "outputs": [],
   "source": []
  },
  {
   "cell_type": "code",
   "execution_count": null,
   "metadata": {
    "executionInfo": {
     "elapsed": 1979,
     "status": "aborted",
     "timestamp": 1604164309227,
     "user": {
      "displayName": "Hemanth kumar",
      "photoUrl": "https://lh3.googleusercontent.com/a-/AOh14GjkPuIu1A00nC8FCrFCSJmK1K4x-l-UmjHISU2kZQ=s64",
      "userId": "02792351768922846610"
     },
     "user_tz": 420
    },
    "id": "dLUDIBibpIUM"
   },
   "outputs": [],
   "source": []
  }
 ],
 "metadata": {
  "colab": {
   "name": "hp-bang-houseprice-prediction.ipynb",
   "provenance": []
  },
  "kernelspec": {
   "display_name": "Python 3",
   "language": "python",
   "name": "python3"
  },
  "language_info": {
   "codemirror_mode": {
    "name": "ipython",
    "version": 3
   },
   "file_extension": ".py",
   "mimetype": "text/x-python",
   "name": "python",
   "nbconvert_exporter": "python",
   "pygments_lexer": "ipython3",
   "version": "3.8.5"
  }
 },
 "nbformat": 4,
 "nbformat_minor": 1
}
